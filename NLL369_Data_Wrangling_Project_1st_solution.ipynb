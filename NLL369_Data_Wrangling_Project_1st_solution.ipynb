{
 "cells": [
  {
   "cell_type": "code",
   "execution_count": 1,
   "id": "75c75511",
   "metadata": {},
   "outputs": [],
   "source": [
    "import pandas as pd"
   ]
  },
  {
   "cell_type": "code",
   "execution_count": 2,
   "id": "1d118be8",
   "metadata": {
    "scrolled": false
   },
   "outputs": [
    {
     "data": {
      "text/html": [
       "<div>\n",
       "<style scoped>\n",
       "    .dataframe tbody tr th:only-of-type {\n",
       "        vertical-align: middle;\n",
       "    }\n",
       "\n",
       "    .dataframe tbody tr th {\n",
       "        vertical-align: top;\n",
       "    }\n",
       "\n",
       "    .dataframe thead th {\n",
       "        text-align: right;\n",
       "    }\n",
       "</style>\n",
       "<table border=\"1\" class=\"dataframe\">\n",
       "  <thead>\n",
       "    <tr style=\"text-align: right;\">\n",
       "      <th></th>\n",
       "      <th>product_id</th>\n",
       "      <th>ordered_at</th>\n",
       "      <th>quantity_ordered</th>\n",
       "    </tr>\n",
       "  </thead>\n",
       "  <tbody>\n",
       "    <tr>\n",
       "      <th>0</th>\n",
       "      <td>3998909</td>\n",
       "      <td>9/18/18 17:51</td>\n",
       "      <td>1</td>\n",
       "    </tr>\n",
       "    <tr>\n",
       "      <th>1</th>\n",
       "      <td>3998909</td>\n",
       "      <td>9/18/18 12:52</td>\n",
       "      <td>1</td>\n",
       "    </tr>\n",
       "    <tr>\n",
       "      <th>2</th>\n",
       "      <td>3998909</td>\n",
       "      <td>9/18/18 11:33</td>\n",
       "      <td>1</td>\n",
       "    </tr>\n",
       "    <tr>\n",
       "      <th>3</th>\n",
       "      <td>3998909</td>\n",
       "      <td>9/18/18 18:47</td>\n",
       "      <td>1</td>\n",
       "    </tr>\n",
       "    <tr>\n",
       "      <th>4</th>\n",
       "      <td>3998909</td>\n",
       "      <td>9/18/18 17:36</td>\n",
       "      <td>1</td>\n",
       "    </tr>\n",
       "    <tr>\n",
       "      <th>...</th>\n",
       "      <td>...</td>\n",
       "      <td>...</td>\n",
       "      <td>...</td>\n",
       "    </tr>\n",
       "    <tr>\n",
       "      <th>170</th>\n",
       "      <td>4085861</td>\n",
       "      <td>9/13/18 23:29</td>\n",
       "      <td>1</td>\n",
       "    </tr>\n",
       "    <tr>\n",
       "      <th>171</th>\n",
       "      <td>64</td>\n",
       "      <td>9/11/18 19:32</td>\n",
       "      <td>1</td>\n",
       "    </tr>\n",
       "    <tr>\n",
       "      <th>172</th>\n",
       "      <td>64</td>\n",
       "      <td>9/14/18 20:10</td>\n",
       "      <td>1</td>\n",
       "    </tr>\n",
       "    <tr>\n",
       "      <th>173</th>\n",
       "      <td>64</td>\n",
       "      <td>9/12/18 16:00</td>\n",
       "      <td>1</td>\n",
       "    </tr>\n",
       "    <tr>\n",
       "      <th>174</th>\n",
       "      <td>64</td>\n",
       "      <td>9/12/18 13:23</td>\n",
       "      <td>1</td>\n",
       "    </tr>\n",
       "  </tbody>\n",
       "</table>\n",
       "<p>175 rows × 3 columns</p>\n",
       "</div>"
      ],
      "text/plain": [
       "     product_id     ordered_at  quantity_ordered\n",
       "0       3998909  9/18/18 17:51                 1\n",
       "1       3998909  9/18/18 12:52                 1\n",
       "2       3998909  9/18/18 11:33                 1\n",
       "3       3998909  9/18/18 18:47                 1\n",
       "4       3998909  9/18/18 17:36                 1\n",
       "..          ...            ...               ...\n",
       "170     4085861  9/13/18 23:29                 1\n",
       "171          64  9/11/18 19:32                 1\n",
       "172          64  9/14/18 20:10                 1\n",
       "173          64  9/12/18 16:00                 1\n",
       "174          64  9/12/18 13:23                 1\n",
       "\n",
       "[175 rows x 3 columns]"
      ]
     },
     "execution_count": 2,
     "metadata": {},
     "output_type": "execute_result"
    }
   ],
   "source": [
    "# df sales\n",
    "\n",
    "sales = pd.read_csv('sales.csv')\n",
    "sales"
   ]
  },
  {
   "cell_type": "code",
   "execution_count": 3,
   "id": "f1248d3c",
   "metadata": {},
   "outputs": [
    {
     "data": {
      "text/plain": [
       "product_id          0\n",
       "ordered_at          0\n",
       "quantity_ordered    0\n",
       "dtype: int64"
      ]
     },
     "execution_count": 3,
     "metadata": {},
     "output_type": "execute_result"
    }
   ],
   "source": [
    "# Check null in sales\n",
    "sales.isna().sum()"
   ]
  },
  {
   "cell_type": "code",
   "execution_count": 4,
   "id": "e4201ca3",
   "metadata": {
    "scrolled": false
   },
   "outputs": [
    {
     "data": {
      "text/html": [
       "<div>\n",
       "<style scoped>\n",
       "    .dataframe tbody tr th:only-of-type {\n",
       "        vertical-align: middle;\n",
       "    }\n",
       "\n",
       "    .dataframe tbody tr th {\n",
       "        vertical-align: top;\n",
       "    }\n",
       "\n",
       "    .dataframe thead th {\n",
       "        text-align: right;\n",
       "    }\n",
       "</style>\n",
       "<table border=\"1\" class=\"dataframe\">\n",
       "  <thead>\n",
       "    <tr style=\"text-align: right;\">\n",
       "      <th></th>\n",
       "      <th>product_id</th>\n",
       "      <th>old_price</th>\n",
       "      <th>new_price</th>\n",
       "      <th>updated_at</th>\n",
       "    </tr>\n",
       "  </thead>\n",
       "  <tbody>\n",
       "    <tr>\n",
       "      <th>0</th>\n",
       "      <td>64</td>\n",
       "      <td>270000</td>\n",
       "      <td>239000</td>\n",
       "      <td>9/10/18 16:37</td>\n",
       "    </tr>\n",
       "    <tr>\n",
       "      <th>1</th>\n",
       "      <td>3954203</td>\n",
       "      <td>60000</td>\n",
       "      <td>64000</td>\n",
       "      <td>9/11/18 11:54</td>\n",
       "    </tr>\n",
       "    <tr>\n",
       "      <th>2</th>\n",
       "      <td>3954203</td>\n",
       "      <td>60500</td>\n",
       "      <td>57500</td>\n",
       "      <td>9/17/18 22:59</td>\n",
       "    </tr>\n",
       "    <tr>\n",
       "      <th>3</th>\n",
       "      <td>3954203</td>\n",
       "      <td>64000</td>\n",
       "      <td>60500</td>\n",
       "      <td>9/15/18 3:49</td>\n",
       "    </tr>\n",
       "    <tr>\n",
       "      <th>4</th>\n",
       "      <td>3954203</td>\n",
       "      <td>68800</td>\n",
       "      <td>60000</td>\n",
       "      <td>9/10/18 16:32</td>\n",
       "    </tr>\n",
       "    <tr>\n",
       "      <th>5</th>\n",
       "      <td>3998909</td>\n",
       "      <td>15500</td>\n",
       "      <td>16500</td>\n",
       "      <td>9/16/18 5:09</td>\n",
       "    </tr>\n",
       "    <tr>\n",
       "      <th>6</th>\n",
       "      <td>3998909</td>\n",
       "      <td>17000</td>\n",
       "      <td>15500</td>\n",
       "      <td>9/13/18 6:43</td>\n",
       "    </tr>\n",
       "    <tr>\n",
       "      <th>7</th>\n",
       "      <td>3998909</td>\n",
       "      <td>19000</td>\n",
       "      <td>17000</td>\n",
       "      <td>9/10/18 16:35</td>\n",
       "    </tr>\n",
       "    <tr>\n",
       "      <th>8</th>\n",
       "      <td>4085861</td>\n",
       "      <td>53500</td>\n",
       "      <td>52000</td>\n",
       "      <td>9/17/18 22:59</td>\n",
       "    </tr>\n",
       "    <tr>\n",
       "      <th>9</th>\n",
       "      <td>4085861</td>\n",
       "      <td>53500</td>\n",
       "      <td>67000</td>\n",
       "      <td>9/12/18 3:51</td>\n",
       "    </tr>\n",
       "    <tr>\n",
       "      <th>10</th>\n",
       "      <td>4085861</td>\n",
       "      <td>58000</td>\n",
       "      <td>53500</td>\n",
       "      <td>9/17/18 3:35</td>\n",
       "    </tr>\n",
       "    <tr>\n",
       "      <th>11</th>\n",
       "      <td>4085861</td>\n",
       "      <td>60000</td>\n",
       "      <td>53500</td>\n",
       "      <td>9/11/18 8:51</td>\n",
       "    </tr>\n",
       "    <tr>\n",
       "      <th>12</th>\n",
       "      <td>4085861</td>\n",
       "      <td>62500</td>\n",
       "      <td>58000</td>\n",
       "      <td>9/15/18 3:51</td>\n",
       "    </tr>\n",
       "    <tr>\n",
       "      <th>13</th>\n",
       "      <td>4085861</td>\n",
       "      <td>67000</td>\n",
       "      <td>62500</td>\n",
       "      <td>9/13/18 6:43</td>\n",
       "    </tr>\n",
       "  </tbody>\n",
       "</table>\n",
       "</div>"
      ],
      "text/plain": [
       "    product_id  old_price  new_price     updated_at\n",
       "0           64     270000     239000  9/10/18 16:37\n",
       "1      3954203      60000      64000  9/11/18 11:54\n",
       "2      3954203      60500      57500  9/17/18 22:59\n",
       "3      3954203      64000      60500   9/15/18 3:49\n",
       "4      3954203      68800      60000  9/10/18 16:32\n",
       "5      3998909      15500      16500   9/16/18 5:09\n",
       "6      3998909      17000      15500   9/13/18 6:43\n",
       "7      3998909      19000      17000  9/10/18 16:35\n",
       "8      4085861      53500      52000  9/17/18 22:59\n",
       "9      4085861      53500      67000   9/12/18 3:51\n",
       "10     4085861      58000      53500   9/17/18 3:35\n",
       "11     4085861      60000      53500   9/11/18 8:51\n",
       "12     4085861      62500      58000   9/15/18 3:51\n",
       "13     4085861      67000      62500   9/13/18 6:43"
      ]
     },
     "execution_count": 4,
     "metadata": {},
     "output_type": "execute_result"
    }
   ],
   "source": [
    "#df prices\n",
    "\n",
    "prices = pd.read_csv('prices.csv')\n",
    "prices"
   ]
  },
  {
   "cell_type": "code",
   "execution_count": 5,
   "id": "e1e2b8ef",
   "metadata": {
    "scrolled": true
   },
   "outputs": [
    {
     "data": {
      "text/plain": [
       "(14, 4)"
      ]
     },
     "execution_count": 5,
     "metadata": {},
     "output_type": "execute_result"
    }
   ],
   "source": [
    "prices.shape"
   ]
  },
  {
   "cell_type": "code",
   "execution_count": 6,
   "id": "97a50682",
   "metadata": {},
   "outputs": [
    {
     "data": {
      "text/plain": [
       "product_id    0\n",
       "old_price     0\n",
       "new_price     0\n",
       "updated_at    0\n",
       "dtype: int64"
      ]
     },
     "execution_count": 6,
     "metadata": {},
     "output_type": "execute_result"
    }
   ],
   "source": [
    "# Check null in prices\n",
    "prices.isna().sum()"
   ]
  },
  {
   "cell_type": "code",
   "execution_count": null,
   "id": "c5892d15",
   "metadata": {},
   "outputs": [],
   "source": []
  },
  {
   "cell_type": "code",
   "execution_count": 7,
   "id": "590e8abb",
   "metadata": {},
   "outputs": [],
   "source": [
    "# Merging sales and prices as SP"
   ]
  },
  {
   "cell_type": "code",
   "execution_count": 8,
   "id": "62203439",
   "metadata": {
    "scrolled": true
   },
   "outputs": [],
   "source": [
    "## convert ordered_at, updated_at to datetime object\n",
    "sales['ordered_at'] = pd.to_datetime(sales['ordered_at'])\n",
    "prices['updated_at'] = pd.to_datetime(prices['updated_at'])\n"
   ]
  },
  {
   "cell_type": "code",
   "execution_count": 9,
   "id": "0e7437e4",
   "metadata": {},
   "outputs": [
    {
     "data": {
      "text/html": [
       "<div>\n",
       "<style scoped>\n",
       "    .dataframe tbody tr th:only-of-type {\n",
       "        vertical-align: middle;\n",
       "    }\n",
       "\n",
       "    .dataframe tbody tr th {\n",
       "        vertical-align: top;\n",
       "    }\n",
       "\n",
       "    .dataframe thead th {\n",
       "        text-align: right;\n",
       "    }\n",
       "</style>\n",
       "<table border=\"1\" class=\"dataframe\">\n",
       "  <thead>\n",
       "    <tr style=\"text-align: right;\">\n",
       "      <th></th>\n",
       "      <th>product_id</th>\n",
       "      <th>ordered_at</th>\n",
       "      <th>quantity_ordered</th>\n",
       "      <th>old_price</th>\n",
       "      <th>new_price</th>\n",
       "      <th>updated_at</th>\n",
       "    </tr>\n",
       "  </thead>\n",
       "  <tbody>\n",
       "    <tr>\n",
       "      <th>0</th>\n",
       "      <td>3954203</td>\n",
       "      <td>2018-09-11 01:43:00</td>\n",
       "      <td>1</td>\n",
       "      <td>68800</td>\n",
       "      <td>60000</td>\n",
       "      <td>2018-09-10 16:32:00</td>\n",
       "    </tr>\n",
       "    <tr>\n",
       "      <th>1</th>\n",
       "      <td>4085861</td>\n",
       "      <td>2018-09-11 06:26:00</td>\n",
       "      <td>1</td>\n",
       "      <td>60000</td>\n",
       "      <td>53500</td>\n",
       "      <td>2018-09-11 08:51:00</td>\n",
       "    </tr>\n",
       "    <tr>\n",
       "      <th>2</th>\n",
       "      <td>4085861</td>\n",
       "      <td>2018-09-11 06:53:00</td>\n",
       "      <td>1</td>\n",
       "      <td>60000</td>\n",
       "      <td>53500</td>\n",
       "      <td>2018-09-11 08:51:00</td>\n",
       "    </tr>\n",
       "    <tr>\n",
       "      <th>3</th>\n",
       "      <td>4085861</td>\n",
       "      <td>2018-09-11 08:24:00</td>\n",
       "      <td>1</td>\n",
       "      <td>60000</td>\n",
       "      <td>53500</td>\n",
       "      <td>2018-09-11 08:51:00</td>\n",
       "    </tr>\n",
       "    <tr>\n",
       "      <th>4</th>\n",
       "      <td>4085861</td>\n",
       "      <td>2018-09-11 09:30:00</td>\n",
       "      <td>1</td>\n",
       "      <td>60000</td>\n",
       "      <td>53500</td>\n",
       "      <td>2018-09-11 08:51:00</td>\n",
       "    </tr>\n",
       "  </tbody>\n",
       "</table>\n",
       "</div>"
      ],
      "text/plain": [
       "   product_id          ordered_at  quantity_ordered  old_price  new_price  \\\n",
       "0     3954203 2018-09-11 01:43:00                 1      68800      60000   \n",
       "1     4085861 2018-09-11 06:26:00                 1      60000      53500   \n",
       "2     4085861 2018-09-11 06:53:00                 1      60000      53500   \n",
       "3     4085861 2018-09-11 08:24:00                 1      60000      53500   \n",
       "4     4085861 2018-09-11 09:30:00                 1      60000      53500   \n",
       "\n",
       "           updated_at  \n",
       "0 2018-09-10 16:32:00  \n",
       "1 2018-09-11 08:51:00  \n",
       "2 2018-09-11 08:51:00  \n",
       "3 2018-09-11 08:51:00  \n",
       "4 2018-09-11 08:51:00  "
      ]
     },
     "execution_count": 9,
     "metadata": {},
     "output_type": "execute_result"
    }
   ],
   "source": [
    "## use merge_asof to merge sales and prices as SP \n",
    "SP = pd.merge_asof(sales.sort_values('ordered_at'), prices.sort_values('updated_at'), by='product_id', left_on='ordered_at', right_on='updated_at',direction='nearest')\n",
    "SP.head()"
   ]
  },
  {
   "cell_type": "code",
   "execution_count": 10,
   "id": "d8762f5c",
   "metadata": {},
   "outputs": [
    {
     "data": {
      "text/plain": [
       "(175, 6)"
      ]
     },
     "execution_count": 10,
     "metadata": {},
     "output_type": "execute_result"
    }
   ],
   "source": [
    "SP.shape"
   ]
  },
  {
   "cell_type": "code",
   "execution_count": 11,
   "id": "857b1864",
   "metadata": {},
   "outputs": [],
   "source": [
    "# create New_price_rev column\n",
    "SP_new = SP[SP['ordered_at'] > SP['updated_at']]\n",
    "SP['new_price_rev'] = SP_new['new_price'] * SP_new['quantity_ordered']"
   ]
  },
  {
   "cell_type": "code",
   "execution_count": 12,
   "id": "82c578d6",
   "metadata": {},
   "outputs": [
    {
     "data": {
      "text/html": [
       "<div>\n",
       "<style scoped>\n",
       "    .dataframe tbody tr th:only-of-type {\n",
       "        vertical-align: middle;\n",
       "    }\n",
       "\n",
       "    .dataframe tbody tr th {\n",
       "        vertical-align: top;\n",
       "    }\n",
       "\n",
       "    .dataframe thead th {\n",
       "        text-align: right;\n",
       "    }\n",
       "</style>\n",
       "<table border=\"1\" class=\"dataframe\">\n",
       "  <thead>\n",
       "    <tr style=\"text-align: right;\">\n",
       "      <th></th>\n",
       "      <th>product_id</th>\n",
       "      <th>ordered_at</th>\n",
       "      <th>quantity_ordered</th>\n",
       "      <th>old_price</th>\n",
       "      <th>new_price</th>\n",
       "      <th>updated_at</th>\n",
       "      <th>new_price_rev</th>\n",
       "      <th>old_price_rev</th>\n",
       "    </tr>\n",
       "  </thead>\n",
       "  <tbody>\n",
       "    <tr>\n",
       "      <th>0</th>\n",
       "      <td>3954203</td>\n",
       "      <td>2018-09-11 01:43:00</td>\n",
       "      <td>1</td>\n",
       "      <td>68800</td>\n",
       "      <td>60000</td>\n",
       "      <td>2018-09-10 16:32:00</td>\n",
       "      <td>60000.0</td>\n",
       "      <td>NaN</td>\n",
       "    </tr>\n",
       "    <tr>\n",
       "      <th>1</th>\n",
       "      <td>4085861</td>\n",
       "      <td>2018-09-11 06:26:00</td>\n",
       "      <td>1</td>\n",
       "      <td>60000</td>\n",
       "      <td>53500</td>\n",
       "      <td>2018-09-11 08:51:00</td>\n",
       "      <td>NaN</td>\n",
       "      <td>60000.0</td>\n",
       "    </tr>\n",
       "    <tr>\n",
       "      <th>2</th>\n",
       "      <td>4085861</td>\n",
       "      <td>2018-09-11 06:53:00</td>\n",
       "      <td>1</td>\n",
       "      <td>60000</td>\n",
       "      <td>53500</td>\n",
       "      <td>2018-09-11 08:51:00</td>\n",
       "      <td>NaN</td>\n",
       "      <td>60000.0</td>\n",
       "    </tr>\n",
       "    <tr>\n",
       "      <th>3</th>\n",
       "      <td>4085861</td>\n",
       "      <td>2018-09-11 08:24:00</td>\n",
       "      <td>1</td>\n",
       "      <td>60000</td>\n",
       "      <td>53500</td>\n",
       "      <td>2018-09-11 08:51:00</td>\n",
       "      <td>NaN</td>\n",
       "      <td>60000.0</td>\n",
       "    </tr>\n",
       "    <tr>\n",
       "      <th>4</th>\n",
       "      <td>4085861</td>\n",
       "      <td>2018-09-11 09:30:00</td>\n",
       "      <td>1</td>\n",
       "      <td>60000</td>\n",
       "      <td>53500</td>\n",
       "      <td>2018-09-11 08:51:00</td>\n",
       "      <td>53500.0</td>\n",
       "      <td>NaN</td>\n",
       "    </tr>\n",
       "  </tbody>\n",
       "</table>\n",
       "</div>"
      ],
      "text/plain": [
       "   product_id          ordered_at  quantity_ordered  old_price  new_price  \\\n",
       "0     3954203 2018-09-11 01:43:00                 1      68800      60000   \n",
       "1     4085861 2018-09-11 06:26:00                 1      60000      53500   \n",
       "2     4085861 2018-09-11 06:53:00                 1      60000      53500   \n",
       "3     4085861 2018-09-11 08:24:00                 1      60000      53500   \n",
       "4     4085861 2018-09-11 09:30:00                 1      60000      53500   \n",
       "\n",
       "           updated_at  new_price_rev  old_price_rev  \n",
       "0 2018-09-10 16:32:00        60000.0            NaN  \n",
       "1 2018-09-11 08:51:00            NaN        60000.0  \n",
       "2 2018-09-11 08:51:00            NaN        60000.0  \n",
       "3 2018-09-11 08:51:00            NaN        60000.0  \n",
       "4 2018-09-11 08:51:00        53500.0            NaN  "
      ]
     },
     "execution_count": 12,
     "metadata": {},
     "output_type": "execute_result"
    }
   ],
   "source": [
    "# create old_price_rev column\n",
    "SP_old = SP[SP['ordered_at'] < SP['updated_at']]\n",
    "SP['old_price_rev'] = SP_old['old_price'] * SP_old['quantity_ordered']\n",
    "\n",
    "SP.head()"
   ]
  },
  {
   "cell_type": "code",
   "execution_count": 13,
   "id": "e5c36835",
   "metadata": {
    "scrolled": true
   },
   "outputs": [
    {
     "name": "stdout",
     "output_type": "stream",
     "text": [
      "            new_price_rev  old_price_rev\n",
      "product_id                              \n",
      "64               956000.0            0.0\n",
      "3954203          757500.0       120000.0\n",
      "3998909          246500.0        34000.0\n",
      "4085861         4971000.0      3276500.0\n"
     ]
    },
    {
     "name": "stderr",
     "output_type": "stream",
     "text": [
      "C:\\Users\\ADMIN\\AppData\\Local\\Temp\\ipykernel_15648\\3474619051.py:2: FutureWarning: Indexing with multiple keys (implicitly converted to a tuple of keys) will be deprecated, use a list instead.\n",
      "  SP_by_id_type = SP.groupby('product_id')['new_price_rev', 'old_price_rev'].sum()\n"
     ]
    }
   ],
   "source": [
    "# Group product id and sum\n",
    "SP_by_id_type = SP.groupby('product_id')['new_price_rev', 'old_price_rev'].sum()\n",
    "print(SP_by_id_type)"
   ]
  },
  {
   "cell_type": "code",
   "execution_count": 14,
   "id": "c58473cc",
   "metadata": {},
   "outputs": [],
   "source": [
    "# total_revenue = new_price_rev + old_price_rev\n",
    "SP_by_id_type['total_revenue'] = SP_by_id_type['new_price_rev'] + SP_by_id_type['old_price_rev'] "
   ]
  },
  {
   "cell_type": "code",
   "execution_count": 15,
   "id": "d3454bc5",
   "metadata": {
    "scrolled": true
   },
   "outputs": [
    {
     "data": {
      "text/html": [
       "<div>\n",
       "<style scoped>\n",
       "    .dataframe tbody tr th:only-of-type {\n",
       "        vertical-align: middle;\n",
       "    }\n",
       "\n",
       "    .dataframe tbody tr th {\n",
       "        vertical-align: top;\n",
       "    }\n",
       "\n",
       "    .dataframe thead th {\n",
       "        text-align: right;\n",
       "    }\n",
       "</style>\n",
       "<table border=\"1\" class=\"dataframe\">\n",
       "  <thead>\n",
       "    <tr style=\"text-align: right;\">\n",
       "      <th></th>\n",
       "      <th>total_revenue</th>\n",
       "    </tr>\n",
       "    <tr>\n",
       "      <th>product_id</th>\n",
       "      <th></th>\n",
       "    </tr>\n",
       "  </thead>\n",
       "  <tbody>\n",
       "    <tr>\n",
       "      <th>64</th>\n",
       "      <td>956000.0</td>\n",
       "    </tr>\n",
       "    <tr>\n",
       "      <th>3954203</th>\n",
       "      <td>877500.0</td>\n",
       "    </tr>\n",
       "    <tr>\n",
       "      <th>3998909</th>\n",
       "      <td>280500.0</td>\n",
       "    </tr>\n",
       "    <tr>\n",
       "      <th>4085861</th>\n",
       "      <td>8247500.0</td>\n",
       "    </tr>\n",
       "  </tbody>\n",
       "</table>\n",
       "</div>"
      ],
      "text/plain": [
       "            total_revenue\n",
       "product_id               \n",
       "64               956000.0\n",
       "3954203          877500.0\n",
       "3998909          280500.0\n",
       "4085861         8247500.0"
      ]
     },
     "execution_count": 15,
     "metadata": {},
     "output_type": "execute_result"
    }
   ],
   "source": [
    "# drop new_price_rev and old_price_rev\n",
    "revenue_by_product = SP_by_id_type.drop(columns=['new_price_rev', 'old_price_rev'])\n",
    "revenue_by_product"
   ]
  },
  {
   "cell_type": "code",
   "execution_count": 18,
   "id": "ee1f1f9e",
   "metadata": {},
   "outputs": [],
   "source": [
    "# export to csv file\n",
    "# revenue_by_product.to_csv('revenue_by_product.csv')"
   ]
  },
  {
   "cell_type": "code",
   "execution_count": null,
   "id": "41b09abb",
   "metadata": {},
   "outputs": [],
   "source": []
  }
 ],
 "metadata": {
  "kernelspec": {
   "display_name": "Python 3 (ipykernel)",
   "language": "python",
   "name": "python3"
  },
  "language_info": {
   "codemirror_mode": {
    "name": "ipython",
    "version": 3
   },
   "file_extension": ".py",
   "mimetype": "text/x-python",
   "name": "python",
   "nbconvert_exporter": "python",
   "pygments_lexer": "ipython3",
   "version": "3.9.12"
  }
 },
 "nbformat": 4,
 "nbformat_minor": 5
}
